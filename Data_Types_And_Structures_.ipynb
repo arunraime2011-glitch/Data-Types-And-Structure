{
  "nbformat": 4,
  "nbformat_minor": 0,
  "metadata": {
    "colab": {
      "provenance": []
    },
    "kernelspec": {
      "name": "python3",
      "display_name": "Python 3"
    },
    "language_info": {
      "name": "python"
    }
  },
  "cells": [
    {
      "cell_type": "markdown",
      "source": [
        "DATA TYPES AND STRUCTURES....\n"
      ],
      "metadata": {
        "id": "S-9txygr3wmU"
      }
    },
    {
      "cell_type": "markdown",
      "source": [
        "1. What are data structures, and why are they important?\n",
        " - A Way of organizing and storing data so that it can be accessed and manipulated effeciently is called data structuring.\n",
        " It is important because they provide efficient ways to store,organize, and manage data, leading to faster performance and better memory utilization.\n",
        "\n",
        "2. Explain the difference between mutable and immutable data types with examples?\n",
        " - Mutable Data type- A mutable data type is one whose values can be changed.\n",
        "    example- List,Dictionaries, and Set\n",
        " - Immutable Data type - An immutable data type is one in which the values can't be changed or altered.\n",
        "    example- String and Tuples"
      ],
      "metadata": {
        "id": "rvT96FBK39s_"
      }
    },
    {
      "cell_type": "code",
      "source": [
        "#create a list of student\n",
        "name = ['ram','shyam','hari','gita','sita']\n",
        "#adding element in the existing list\n",
        "name.append('rahul')\n",
        "print(name)"
      ],
      "metadata": {
        "colab": {
          "base_uri": "https://localhost:8080/"
        },
        "id": "lZ4WXH7O9UEI",
        "outputId": "d34cc218-f919-41e4-d818-2f15c7475091"
      },
      "execution_count": null,
      "outputs": [
        {
          "output_type": "stream",
          "name": "stdout",
          "text": [
            "['ram', 'shyam', 'hari', 'gita', 'sita', 'rahul']\n"
          ]
        }
      ]
    },
    {
      "cell_type": "code",
      "execution_count": null,
      "metadata": {
        "colab": {
          "base_uri": "https://localhost:8080/"
        },
        "id": "Cclfak0u3NT0",
        "outputId": "1993d31b-18be-4b4e-92b5-96c9f389e4f4"
      },
      "outputs": [
        {
          "output_type": "stream",
          "name": "stdout",
          "text": [
            "{'name': 'Arun', 'age': 30, 'department': 'Editorial'}\n"
          ]
        }
      ],
      "source": [
        "#create a dictionary:Employee\n",
        "employee = {'name':'Arun','age':30,'department':'content management'}\n",
        "#change the department name from content management to Editorial\n",
        "employee['department'] = 'Editorial'\n",
        "print(employee)"
      ]
    },
    {
      "cell_type": "code",
      "source": [
        "my_string = \"Hello,World!\"\n",
        "type(my_string)\n",
        "my_string[0] = 'h'"
      ],
      "metadata": {
        "colab": {
          "base_uri": "https://localhost:8080/",
          "height": 176
        },
        "id": "jNvfV4dM-6RP",
        "outputId": "2290405b-585b-4ba1-bda5-4ba8ed24215a"
      },
      "execution_count": null,
      "outputs": [
        {
          "output_type": "error",
          "ename": "TypeError",
          "evalue": "'str' object does not support item assignment",
          "traceback": [
            "\u001b[0;31m---------------------------------------------------------------------------\u001b[0m",
            "\u001b[0;31mTypeError\u001b[0m                                 Traceback (most recent call last)",
            "\u001b[0;32m/tmp/ipython-input-1711749968.py\u001b[0m in \u001b[0;36m<cell line: 0>\u001b[0;34m()\u001b[0m\n\u001b[1;32m      1\u001b[0m \u001b[0mmy_string\u001b[0m \u001b[0;34m=\u001b[0m \u001b[0;34m\"Hello,World!\"\u001b[0m\u001b[0;34m\u001b[0m\u001b[0;34m\u001b[0m\u001b[0m\n\u001b[1;32m      2\u001b[0m \u001b[0mtype\u001b[0m\u001b[0;34m(\u001b[0m\u001b[0mmy_string\u001b[0m\u001b[0;34m)\u001b[0m\u001b[0;34m\u001b[0m\u001b[0;34m\u001b[0m\u001b[0m\n\u001b[0;32m----> 3\u001b[0;31m \u001b[0mmy_string\u001b[0m\u001b[0;34m[\u001b[0m\u001b[0;36m0\u001b[0m\u001b[0;34m]\u001b[0m \u001b[0;34m=\u001b[0m \u001b[0;34m'h'\u001b[0m\u001b[0;34m\u001b[0m\u001b[0;34m\u001b[0m\u001b[0m\n\u001b[0m",
            "\u001b[0;31mTypeError\u001b[0m: 'str' object does not support item assignment"
          ]
        }
      ]
    },
    {
      "cell_type": "markdown",
      "source": [
        "3. What are the main differences between lists and tuples in Python?\n",
        " - The main difference between lists and tuple in python is their mutability,performance characteristics,and typical use cases.\n",
        "\n",
        "  a. MUTABILITY:\n",
        "\n",
        "  - LISTS are mutable: Their elements can be modified (added,removed, or changed) after the list has been created.\n",
        "  - TUPLES are immutable: Once a tuple is created,its elements cannot be altered.Attempts to modify a tuple will result in a TypeError.\n",
        "\n",
        "  b.PERFORMANCE:\n",
        "\n",
        "  - LISTS require more flexible memory management due to their mutability,which can lead to slower operations and potentially higher memory usage.\n",
        "  - Tuples are generally faster and more memory-efficient than lists because their fixed size allows for more optimozed memory allocation.\n",
        "\n",
        "  c.USAGES AND USE CASES:\n",
        "\n",
        "   - LISTS are sutable for dynamic collections where elements need to be added,removed, or changed frequently.They are often used for homogeneous collections.(eg..a list of numbers).\n",
        "   - Tuples are used for fixed collections of related items,especially when the data should not be changed.They are often used for heterogeneous collections(e.g..a record like name,age,city).\n",
        "\n",
        "   d.SYNTAX:\n",
        "   \n",
        "   - LISTS are defined using square brackets[].\n",
        "   - TUPLEs are defined using parentheses()."
      ],
      "metadata": {
        "id": "fwbY_oMG_ncS"
      }
    },
    {
      "cell_type": "markdown",
      "source": [
        "4. Describe how dictionaries store data?\n",
        " - Pthon dictionaries store data as key-value pairs within a hash table structure.\n",
        "\n",
        "5. Why might you use a set instead of a list in Python?\n",
        " - we use a set instead of list in python because set are unordered collection of unique element whereas lists is an ordered collection of elements that can be of any data types.\n",
        "\n",
        "6. What is a string in Python, and how is it different from a list?\n",
        " - In Python, lists store hetrogenous ordered collection of elements that can be of any data type but string is a sequence of character in which characters are represented using numerical values and each character is assigned a unique value.\n",
        "\n",
        "7. How do tuples ensure data integrity in Python?\n",
        " - Tuples ensure data integrity in Python primarily through their immutability. The charactreistic means that once a tuple is created its elements cannot be changed, added, or removed.\n",
        "\n",
        "8. What is a hash table, and how does it relate to dictionaries in Python?\n",
        " - A hash table is a data structure that implements an associative array,also known as dictionary. It stores data in key-value pairs and uses a hash function to efficiently map keys to their corresponding values.\n",
        "\n",
        "9. Can lists contain different data types in Python?\n",
        " - Yes, Python lists can contain elements of different data tyes. This is a key feature that makes Python lists vary flexible and versatile.\n",
        "\n",
        " Example-\n",
        "  - Integers: 1,2,3\n",
        "  - Strings: \"hellow\",\"arun\"\n",
        "  - Floats: 2.2,0.5\n",
        "  - Booleans: True, False\n",
        "\n",
        "10. Explain why strings are immutable in Python?\n",
        " - Python strings are immutable, meaning their content cannot be changed after they are created. This design choice offers several advantages:\n",
        "   - Memory Efficiency and Performance.\n",
        "   - Security and Data Integrity.\n",
        "   - Hashability.\n",
        "   - Simplicity and Predictability.\n",
        "\n",
        "11. What advantages do dictionaries offer over lists for certain tasks?\n",
        " - Dictionaries in Python offer significant advantages over lists for specific tasks, primarily centered arourd data retrieval and organization.\n",
        "     \n",
        "     1.Fast Data Retrieval\n",
        "     2.key-Value Association and Data Organization\n",
        "     3.Efficent for Large Datasets with Frequents lookups\n",
        "     4.Mapping Relationshis\n",
        "\n",
        "12. Describe a scenario where using a tuple would be preferable over a list?\n",
        " - A scenario where a tuple would be preferable over a list in Python is when representing immutable, fixed collection of related data, especially when these collections are intended to be used as dictionary keys or passed as funtion arguments where their values should not change.\n",
        "  consider a sitution where you need to store geographic coordinates(latitute,longitute).\n",
        " Each coordinate pair is a fixed entity that should not be individually modified after creation.If you were to use a list for this:\n",
        "\n"
      ],
      "metadata": {
        "id": "QKqwvw2xGRjv"
      }
    },
    {
      "cell_type": "code",
      "source": [
        "coordinates = [(40.7128,-74.0060),(34.0522,-118.2437),(51.5074,-0.1278)]\n",
        "#while function it allow for accidental modification:\n",
        "coordinates[0] = (41.8781,-87.6298)\n",
        "print(coordinates)"
      ],
      "metadata": {
        "colab": {
          "base_uri": "https://localhost:8080/"
        },
        "id": "Q_xmjbwkHBUd",
        "outputId": "56470bf4-8f6a-4452-d399-3a15b2d0beb9"
      },
      "execution_count": null,
      "outputs": [
        {
          "output_type": "stream",
          "name": "stdout",
          "text": [
            "[(41.8781, -87.6298), (34.0522, -118.2437), (51.5074, -0.1278)]\n"
          ]
        }
      ]
    },
    {
      "cell_type": "code",
      "source": [
        "# using a tuple ensures immutability:\n",
        "coordinates_tuple = ((40.7128,-74.0060),(34.0522,-118.2437),(51.5074,-0.1278))\n",
        "#attempting to modify an element would results in an error:\n",
        "coordinates_tuple[0] = (41.8781,-87.6298)"
      ],
      "metadata": {
        "colab": {
          "base_uri": "https://localhost:8080/",
          "height": 176
        },
        "id": "DrqMKNruHbkB",
        "outputId": "7a960356-8ee2-4123-a815-27ae1615289c"
      },
      "execution_count": null,
      "outputs": [
        {
          "output_type": "error",
          "ename": "TypeError",
          "evalue": "'tuple' object does not support item assignment",
          "traceback": [
            "\u001b[0;31m---------------------------------------------------------------------------\u001b[0m",
            "\u001b[0;31mTypeError\u001b[0m                                 Traceback (most recent call last)",
            "\u001b[0;32m/tmp/ipython-input-2904467796.py\u001b[0m in \u001b[0;36m<cell line: 0>\u001b[0;34m()\u001b[0m\n\u001b[1;32m      2\u001b[0m \u001b[0mcoordinates_tuple\u001b[0m \u001b[0;34m=\u001b[0m \u001b[0;34m(\u001b[0m\u001b[0;34m(\u001b[0m\u001b[0;36m40.7128\u001b[0m\u001b[0;34m,\u001b[0m\u001b[0;34m-\u001b[0m\u001b[0;36m74.0060\u001b[0m\u001b[0;34m)\u001b[0m\u001b[0;34m,\u001b[0m\u001b[0;34m(\u001b[0m\u001b[0;36m34.0522\u001b[0m\u001b[0;34m,\u001b[0m\u001b[0;34m-\u001b[0m\u001b[0;36m118.2437\u001b[0m\u001b[0;34m)\u001b[0m\u001b[0;34m,\u001b[0m\u001b[0;34m(\u001b[0m\u001b[0;36m51.5074\u001b[0m\u001b[0;34m,\u001b[0m\u001b[0;34m-\u001b[0m\u001b[0;36m0.1278\u001b[0m\u001b[0;34m)\u001b[0m\u001b[0;34m)\u001b[0m\u001b[0;34m\u001b[0m\u001b[0;34m\u001b[0m\u001b[0m\n\u001b[1;32m      3\u001b[0m \u001b[0;31m#attempting to modify an element would results in an error:\u001b[0m\u001b[0;34m\u001b[0m\u001b[0;34m\u001b[0m\u001b[0m\n\u001b[0;32m----> 4\u001b[0;31m \u001b[0mcoordinates_tuple\u001b[0m\u001b[0;34m[\u001b[0m\u001b[0;36m0\u001b[0m\u001b[0;34m]\u001b[0m \u001b[0;34m=\u001b[0m \u001b[0;34m(\u001b[0m\u001b[0;36m41.8781\u001b[0m\u001b[0;34m,\u001b[0m\u001b[0;34m-\u001b[0m\u001b[0;36m87.6298\u001b[0m\u001b[0;34m)\u001b[0m\u001b[0;34m\u001b[0m\u001b[0;34m\u001b[0m\u001b[0m\n\u001b[0m",
            "\u001b[0;31mTypeError\u001b[0m: 'tuple' object does not support item assignment"
          ]
        }
      ]
    },
    {
      "cell_type": "code",
      "source": [],
      "metadata": {
        "id": "pA8ZYhGqGakG"
      },
      "execution_count": null,
      "outputs": []
    },
    {
      "cell_type": "markdown",
      "source": [
        "13.How do sets handle duplicate values in Python?\n",
        " - Python sets fundamentally do not allow duplicate values. They are designed to store only unique, hashable elements. When you attempt to add an element that is already present in a set, the set simply ignores the addition, and the existing element remains, unchanged.\n",
        "  - Initialization with duplicates: If you create a set from an iterable containing duplicate values, the duplicates will be automatically removed during the set's creation."
      ],
      "metadata": {
        "id": "GppoleHrIFgC"
      }
    },
    {
      "cell_type": "code",
      "source": [
        "my_lists = [1,2,2,3,4,4,5]\n",
        "my_set = set(my_lists)\n",
        "print(my_set)\n"
      ],
      "metadata": {
        "colab": {
          "base_uri": "https://localhost:8080/"
        },
        "id": "iQXDhY7zJas-",
        "outputId": "7951f532-fa89-4d9b-f37a-1fa3d6170a88"
      },
      "execution_count": null,
      "outputs": [
        {
          "output_type": "stream",
          "name": "stdout",
          "text": [
            "{1, 2, 3, 4, 5}\n"
          ]
        }
      ]
    },
    {
      "cell_type": "code",
      "source": [
        "##Adding duplicates with add(): When using the add() method to insert an element, if that element already exists in the set, no change occurs.\n",
        "\n",
        "my_set = {1, 2, 3}\n",
        "    my_set.add(2)  # 2 is already in the set\n",
        "    print(my_set)"
      ],
      "metadata": {
        "colab": {
          "base_uri": "https://localhost:8080/",
          "height": 106
        },
        "id": "v-gflzg0Kbip",
        "outputId": "dd050c50-8354-470f-b586-eafa11f2f895"
      },
      "execution_count": null,
      "outputs": [
        {
          "output_type": "error",
          "ename": "IndentationError",
          "evalue": "unexpected indent (ipython-input-1776139210.py, line 4)",
          "traceback": [
            "\u001b[0;36m  File \u001b[0;32m\"/tmp/ipython-input-1776139210.py\"\u001b[0;36m, line \u001b[0;32m4\u001b[0m\n\u001b[0;31m    my_set.add(2)  # 2 is already in the set\u001b[0m\n\u001b[0m    ^\u001b[0m\n\u001b[0;31mIndentationError\u001b[0m\u001b[0;31m:\u001b[0m unexpected indent\n"
          ]
        }
      ]
    },
    {
      "cell_type": "markdown",
      "source": [
        "14. How does the “in” keyword work differently for lists and dictionaries?\n",
        " - The \"in\" keyword in Python functions differently for lists and dictionaries in terms of what it checks for:\n",
        "\n",
        " FOR LISTS:\n",
        "\n",
        " When used with a list, the \"in\" keyword checks for the presence of a specific element within the list. It iterates through the list, comparing the target element with each item in the list until a match is found or the end of the list is reached."
      ],
      "metadata": {
        "id": "F9KYNXRNJwDm"
      }
    },
    {
      "cell_type": "code",
      "source": [
        "my_list = [1, 2, 3, 4, 5]\n",
        "print(3 in my_list)  # Output: True\n",
        "print(6 in my_list)  # Output: False"
      ],
      "metadata": {
        "colab": {
          "base_uri": "https://localhost:8080/"
        },
        "id": "0sfrUkK5LRIg",
        "outputId": "45abbd6a-4f62-4664-e074-8cad3a8b302c"
      },
      "execution_count": null,
      "outputs": [
        {
          "output_type": "stream",
          "name": "stdout",
          "text": [
            "True\n",
            "False\n"
          ]
        }
      ]
    },
    {
      "cell_type": "markdown",
      "source": [
        "For Dictionaries:\n",
        "\n",
        "When used with a dictionary, the \"in\" keyword checks for the presence of a specific key within the dictionary. It does not check for the presence of values directly. If you want to check for values, you need to use the .values() method of the dictionary.\n"
      ],
      "metadata": {
        "id": "rjn55E6qL7nd"
      }
    },
    {
      "cell_type": "code",
      "source": [
        "    my_dict = {'apple': 1, 'banana': 2, 'orange': 3}\n",
        "    print('apple' in my_dict)  # Output: True (checks for key 'apple')\n",
        "    print('grape' in my_dict)  # Output: False (checks for key 'grape')\n",
        "    print(1 in my_dict)  # Output: False (1 is a value, not a key)\n",
        "    print(1 in my_dict.values()) # Output: True (checks for value 1)"
      ],
      "metadata": {
        "colab": {
          "base_uri": "https://localhost:8080/"
        },
        "id": "Q3mgwFyYMETP",
        "outputId": "88be3ec8-de30-4409-89d2-48d2df0ac39e"
      },
      "execution_count": null,
      "outputs": [
        {
          "output_type": "stream",
          "name": "stdout",
          "text": [
            "True\n",
            "False\n",
            "False\n",
            "True\n"
          ]
        }
      ]
    },
    {
      "cell_type": "markdown",
      "source": [
        "In summary:\n",
        "\n",
        "Lists: element in list checks if an element exists in the list.\n",
        "Dictionaries: key in dictionary checks if a key exists in the dictionary. To check for values, use value in dictionary.values()"
      ],
      "metadata": {
        "id": "oez96G4wMTc6"
      }
    },
    {
      "cell_type": "markdown",
      "source": [
        "15. Can you modify the elements of a tuple? Explain why or why not?\n",
        " - No, we can not modify the elements of a tuple.\n",
        "  Explanation:\n",
        "Tuples are immutable data structures in Python. This means that once a tuple is created, its contents cannot be changed, added to, or removed from. Any attempt to modify an element directly, such as by using an assignment operator on a specific index, will result in a TypeError.\n",
        "\n",
        "Why are tuples immutable?\n",
        "\n",
        "Data Integrity: Immutability helps ensure the integrity of data. If a tuple is passed around in different parts of a program, you can be certain that its values will remain consistent and won't be accidentally altered.\n",
        "\n",
        "Performance: Immutable objects can sometimes be optimized by Python's interpreter, leading to better performance in certain scenarios.\n",
        "\n",
        "Use as Dictionary Keys: Because tuples are immutable, they can be used as keys in dictionaries, unlike mutable lists. This is a crucial feature for certain data structures and algorithms.\n",
        "\n",
        "Workaround (Creating a New Tuple):\n",
        "\n",
        "While you cannot modify a tuple in place, you can achieve a similar effect by creating a new tuple that incorporates the desired changes. This usually involves:\n",
        "Converting the original tuple to a mutable data type, such as a list.\n",
        "Making the necessary modifications to the list.\n",
        "Converting the modified list back into a new tuple.\n",
        "Example:"
      ],
      "metadata": {
        "id": "br-1NOU-Mc9v"
      }
    },
    {
      "cell_type": "code",
      "source": [
        "my_tuple = (\"apple\", \"banana\", \"cherry\")\n",
        "\n",
        "# Attempting to modify directly will raise a TypeError\n",
        "# my_tuple[1] = \"kiwi\"\n",
        "\n",
        "# Workaround:\n",
        "my_list = list(my_tuple)\n",
        "my_list[1] = \"kiwi\"\n",
        "new_tuple = tuple(my_list)\n",
        "\n",
        "print(f\"Original tuple: {my_tuple}\")\n",
        "print(f\"New tuple: {new_tuple}\")"
      ],
      "metadata": {
        "colab": {
          "base_uri": "https://localhost:8080/"
        },
        "id": "vSXB1M4FN-K9",
        "outputId": "d5514578-e334-489c-e0ae-294f8bd2461e"
      },
      "execution_count": null,
      "outputs": [
        {
          "output_type": "stream",
          "name": "stdout",
          "text": [
            "Original tuple: ('apple', 'banana', 'cherry')\n",
            "New tuple: ('apple', 'kiwi', 'cherry')\n"
          ]
        }
      ]
    },
    {
      "cell_type": "markdown",
      "source": [
        "16. What is a nested dictionary, and give an example of its use case?\n",
        " - A nested dictionary is a dictionary where the values associated with some or all of its keys are themselves other dictionaries. This structure allows for the creation of hierarchical data, representing complex relationships between different pieces of information.\n",
        "\n",
        " Example Use Case: Representing a University Database\n",
        "\n",
        "A nested dictionary can effectively store information about a university, including departments, courses within those departments, and students enrolled in each course."
      ],
      "metadata": {
        "id": "3oETbxdjOGgX"
      }
    },
    {
      "cell_type": "code",
      "source": [
        "university_database = {\n",
        "    \"Computer Science\": {\n",
        "        \"CS101\": {\n",
        "            \"title\": \"Introduction to Programming\",\n",
        "            \"instructor\": \"Dr. Smith\",\n",
        "            \"students\": [\"Alice\", \"Bob\", \"Charlie\"]\n",
        "        },\n",
        "        \"CS202\": {\n",
        "            \"title\": \"Data Structures\",\n",
        "            \"instructor\": \"Dr. Jones\",\n",
        "            \"students\": [\"Alice\", \"David\"]\n",
        "        }\n",
        "    },\n",
        "    \"Mathematics\": {\n",
        "        \"MA101\": {\n",
        "            \"title\": \"Calculus I\",\n",
        "            \"instructor\": \"Prof. Lee\",\n",
        "            \"students\": [\"Bob\", \"Eve\"]\n",
        "        }\n",
        "    }\n",
        "}"
      ],
      "metadata": {
        "id": "5LZLoHxROqtF"
      },
      "execution_count": null,
      "outputs": []
    },
    {
      "cell_type": "markdown",
      "source": [
        "In this example:\n",
        "\n",
        "The outermost dictionary university_database has department names as keys (e.g., \"Computer Science\", \"Mathematics\").\n",
        "The values associated with these department keys are themselves dictionaries, representing the courses offered within that department.\n",
        "Each course dictionary (e.g., \"CS101\", \"MA101\") contains details about the course, such as its title, instructor, and a list of enrolled students.\n",
        "This nested structure allows for organized storage and easy retrieval of information, such as finding all students in \"CS101\" (university_database[\"Computer Science\"][\"CS101\"][\"students\"]) or the instructor of \"MA101\" (university_database[\"Mathematics\"][\"MA101\"][\"instructor\"]).\n"
      ],
      "metadata": {
        "id": "qUSIGWapO4mw"
      }
    },
    {
      "cell_type": "markdown",
      "source": [
        "17. Describe the time complexity of accessing elements in a dictionary?\n",
        " - Accessing elements in a dictionary, or hash map, generally has an average time complexity of O(1), which stands for constant time. This means that, on average, the time it takes to retrieve a value using its key does not significantly increase with the size of the dictionary.\n",
        "\n",
        "This efficiency is attributed to the internal implementation of dictionaries, which typically use hash tables. When a key-value pair is added, a hash function converts the key into a hash value, which then determines the \"bucket\" or memory location where the value is stored. When retrieving a value, the same hash function is applied to the key, allowing for direct access to the corresponding bucket and the associated value.\n",
        "\n",
        "However, in the worst-case scenario, the time complexity can degrade to O(n), where 'n' is the number of elements in the dictionary. This occurs when there are many hash collisions, meaning different keys produce the same hash value, leading to multiple key-value pairs being stored in the same bucket. In such cases, the system might need to linearly search through the elements within that bucket to find the correct key, resulting in a time complexity proportional to the number of elements in the worst-case bucket. While possible, this worst-case scenario is rare in well-implemented hash tables, which employ strategies to minimize collisions."
      ],
      "metadata": {
        "id": "IbNTsGzyO9Fp"
      }
    },
    {
      "cell_type": "markdown",
      "source": [
        "18. In what situations are lists preferred over dictionaries?\n",
        " - Lists are preferred over dictionaries in situations where:\n",
        "\n",
        "- Order of elements is crucial: Lists maintain the insertion order of elements, making them suitable when the sequence of items is significant, such as a shopping list, a sequence of steps in an algorithm, or a timeline of events.\n",
        "\n",
        "- Elements are accessed by numerical index: When elements are naturally addressed by their position (e.g., the first item, the second item), lists provide efficient O(1) access time using integer indices.\n",
        "\n",
        "- Sequential processing or iteration over all elements: Lists are well-suited for operations that involve iterating through all elements in a specific order, like applying a function to each item or searching for a value within the sequence.\n",
        "\n",
        "- Storing a collection of items without unique identifiers: If the items in the collection do not have a natural key or unique identifier for direct lookup, a list is the appropriate choice.\\\n",
        "\n",
        "- Operations like appending and extending are frequent: Lists offer efficient methods for adding elements to the end (append()) or merging with another list (extend()).\n",
        "\n",
        "- Memory usage is a concern for simple collections: For simple, ordered collections where key-value overhead is unnecessary, lists generally consume less memory than dictionaries"
      ],
      "metadata": {
        "id": "hUMkXVZ_TlsH"
      }
    },
    {
      "cell_type": "markdown",
      "source": [
        "19. Why are dictionaries considered unordered, and how does that affect data retrieval?\n",
        " - Dictionaries are considered unordered due to following:\n",
        "\n",
        "   - Key-Value Mapping over Sequence: Dictionaries are optimized for quick storage and recovery of data using keys, not for maintaining a predictable order of elements.\n",
        "   - No Positional Indexing: Unlike ordered collections like lists, you cannot access dictionary elements by their position (e.g., my_dict) because they lack a defined, sequential position.\n",
        "   - Historical Context (Python): In older versions of Python, dictionaries did not preserve the order in which items were added. While Python 3.7+ does retain insertion order, this was an implementation detail, not their core design philosophy. The emphasis remains on key-value lookup.\n",
        "How it affects data retrieval:\n",
        "   - Access by Key: Data is always retrieved using its unique key, not its position. For example, to get a value, you must know the corresponding key, such as my_dictionary['apple'].\n",
        "   - No Order Guarantees (Conceptually): Even though modern Python dictionaries maintain insertion order, you should not depend on this for the overall function of the data structure. When iterating through a dictionary, the order of elements may not be predictable or match the insertion order in contexts where insertion order isn't relevant.\n",
        "   - Fast Lookups: The primary benefit of this design is speed. Hashing (using a function to convert the key into an index) allows for very fast retrieval of values associated with a given key.\n"
      ],
      "metadata": {
        "id": "Q7Bm8-UnUloe"
      }
    },
    {
      "cell_type": "markdown",
      "source": [
        "20. Explain the difference between a list and a dictionary in terms of data retrieval.?\n",
        " - The fundamental difference between lists and dictionaries in terms of data retrieval lies in their underlying structure and how elements are identified.\n",
        "\n",
        " Lists:\n",
        "\n",
        "Ordered Collection: Lists store elements in a specific, sequential order.\n",
        "Index-Based Retrieval: Data retrieval in lists relies on numerical indices, starting from 0 for the first element. To access an element, its position within the list must be known."
      ],
      "metadata": {
        "id": "35lI1v1JWhC4"
      }
    },
    {
      "cell_type": "code",
      "source": [
        "    my_list = [\"apple\", \"banana\", \"cherry\"]\n",
        "    # Retrieve \"banana\" using its index\n",
        "    fruit = my_list[1]\n"
      ],
      "metadata": {
        "id": "qoOCHTyMW5-Z"
      },
      "execution_count": null,
      "outputs": []
    },
    {
      "cell_type": "markdown",
      "source": [
        "Dictionaries:\n",
        "\n",
        "Unordered Collection of Key-Value Pairs: Dictionaries store data as pairs, where each value is associated with a unique key. The order of elements is not guaranteed.\n",
        "Key-Based Retrieval: Data retrieval in dictionaries uses these unique keys. To access a value, its corresponding key must be known."
      ],
      "metadata": {
        "id": "HeEoTnlRXH5E"
      }
    },
    {
      "cell_type": "code",
      "source": [
        "    my_dict = {\"fruit1\": \"apple\", \"fruit2\": \"banana\", \"fruit3\": \"cherry\"}\n",
        "    # Retrieve \"banana\" using its key\n",
        "    fruit = my_dict[\"fruit2\"]"
      ],
      "metadata": {
        "id": "uiftUFaxXPSd"
      },
      "execution_count": null,
      "outputs": []
    },
    {
      "cell_type": "markdown",
      "source": [
        "Key Differences in Retrieval:\n",
        "\n",
        "Mechanism: Lists use numerical indexing; dictionaries use arbitrary, user-defined keys.\n",
        "\n",
        "Efficiency (Average Case): Dictionaries typically offer faster retrieval (average O(1) time complexity) because keys are hashed for direct access. List retrieval can be fast for known indices, but searching for a specific value without knowing its index requires iterating through the list (O(n) time complexity).\n",
        "\n",
        "Flexibility: Dictionary keys can be of various immutable data types (strings, numbers, tuples), providing more descriptive and meaningful ways to access data compared to sequential numerical indices in lists."
      ],
      "metadata": {
        "id": "KhIi6SexXZ9G"
      }
    },
    {
      "cell_type": "markdown",
      "source": [
        "PRACTICAL QUESTIONS:\n"
      ],
      "metadata": {
        "id": "_sSNsAqUXn3C"
      }
    },
    {
      "cell_type": "code",
      "source": [
        "#1.Write a code to create a string with your name and print it.\n",
        "Name = \"ARUN\"\n",
        "print(Name)"
      ],
      "metadata": {
        "colab": {
          "base_uri": "https://localhost:8080/"
        },
        "id": "EURIs_ZLYJgv",
        "outputId": "02e23333-da57-40f1-d146-a20560f849bc"
      },
      "execution_count": null,
      "outputs": [
        {
          "output_type": "stream",
          "name": "stdout",
          "text": [
            "ARUN\n"
          ]
        }
      ]
    },
    {
      "cell_type": "code",
      "source": [
        "#2. Write a code to find the length of the string \"Hello World\".\n",
        "string = \"Hello World\"\n",
        "print(len(string))"
      ],
      "metadata": {
        "colab": {
          "base_uri": "https://localhost:8080/"
        },
        "id": "yJ0A1Fk_YbeV",
        "outputId": "a5cddd25-45e6-40f1-8537-fce9bb41f54c"
      },
      "execution_count": null,
      "outputs": [
        {
          "output_type": "stream",
          "name": "stdout",
          "text": [
            "11\n"
          ]
        }
      ]
    },
    {
      "cell_type": "code",
      "source": [
        "#3. Write a code to slice the first 3 characters from the string \"Python Programming\".\n",
        "string = \"Python Programming\"\n",
        "print(string[0:3])"
      ],
      "metadata": {
        "colab": {
          "base_uri": "https://localhost:8080/"
        },
        "id": "K7Zpj9kBZTww",
        "outputId": "a30768fe-75d9-4a17-97c3-7f0e922a87e6"
      },
      "execution_count": null,
      "outputs": [
        {
          "output_type": "stream",
          "name": "stdout",
          "text": [
            "Pyt\n"
          ]
        }
      ]
    },
    {
      "cell_type": "code",
      "source": [
        "#4. Write a code to convert the string \"hello\" to uppercase.\n",
        "string = \"hello\"\n",
        "print(string.upper())"
      ],
      "metadata": {
        "colab": {
          "base_uri": "https://localhost:8080/"
        },
        "id": "ltxADshPZeTo",
        "outputId": "80dde8cc-3c26-4fdc-ec4d-cb929783af06"
      },
      "execution_count": null,
      "outputs": [
        {
          "output_type": "stream",
          "name": "stdout",
          "text": [
            "HELLO\n"
          ]
        }
      ]
    },
    {
      "cell_type": "code",
      "source": [
        "#5. Write a code to replace the word \"apple\" with \"orange\" in the string \"I like apple\".\n",
        "string = \"I like apple\"\n",
        "print(string.replace(\"apple\",\"orange\"))"
      ],
      "metadata": {
        "colab": {
          "base_uri": "https://localhost:8080/"
        },
        "id": "O36QHvQYZmPw",
        "outputId": "bae8b1bd-20db-4c27-f36e-b1d50858f450"
      },
      "execution_count": null,
      "outputs": [
        {
          "output_type": "stream",
          "name": "stdout",
          "text": [
            "I like orange\n"
          ]
        }
      ]
    },
    {
      "cell_type": "code",
      "source": [
        "#6.Write a code to create a list with numbers 1 to 5 and print it.\n",
        "list = [1,2,3,4,5]\n",
        "print(list)"
      ],
      "metadata": {
        "colab": {
          "base_uri": "https://localhost:8080/"
        },
        "id": "jehF0qH4Z4VX",
        "outputId": "6ffcd8ee-5fd8-475b-8c78-8bc02e7adc63"
      },
      "execution_count": null,
      "outputs": [
        {
          "output_type": "stream",
          "name": "stdout",
          "text": [
            "[1, 2, 3, 4, 5]\n"
          ]
        }
      ]
    },
    {
      "cell_type": "code",
      "source": [
        "#7. Write a code to append the number 10 to the list [1, 2, 3, 4].\n",
        "list = [1,2,3,4]\n",
        "list.append(10)\n",
        "print(list)"
      ],
      "metadata": {
        "colab": {
          "base_uri": "https://localhost:8080/"
        },
        "id": "CRKGjiPAZ_Z3",
        "outputId": "30d5ccbf-9b43-4a9d-c680-6357c0aee995"
      },
      "execution_count": null,
      "outputs": [
        {
          "output_type": "stream",
          "name": "stdout",
          "text": [
            "[1, 2, 3, 4, 10]\n"
          ]
        }
      ]
    },
    {
      "cell_type": "code",
      "source": [
        "#8.  Write a code to remove the number 3 from the list [1, 2, 3, 4, 5].\n",
        "list = [1,2,3,4,5]\n",
        "list.remove(3)\n",
        "print(list)"
      ],
      "metadata": {
        "colab": {
          "base_uri": "https://localhost:8080/"
        },
        "id": "gIy0W9QyaIEu",
        "outputId": "3ccbfd81-c14a-4205-e599-3c4f60fc5710"
      },
      "execution_count": null,
      "outputs": [
        {
          "output_type": "stream",
          "name": "stdout",
          "text": [
            "[1, 2, 4, 5]\n"
          ]
        }
      ]
    },
    {
      "cell_type": "code",
      "source": [
        "#9. Write a code to access the second element in the list ['a', 'b', 'c', 'd'].\n",
        "list = ['a','b','c','d']\n",
        "print(list[1])"
      ],
      "metadata": {
        "colab": {
          "base_uri": "https://localhost:8080/"
        },
        "id": "-lWaxjBDaOaW",
        "outputId": "6b4132fa-f1a4-4e9d-8fd3-08c79b16101b"
      },
      "execution_count": null,
      "outputs": [
        {
          "output_type": "stream",
          "name": "stdout",
          "text": [
            "b\n"
          ]
        }
      ]
    },
    {
      "cell_type": "code",
      "source": [
        "#10. Write a code to reverse the list [10, 20, 30, 40, 50].\n",
        "list = [10,20,30,40,50]\n",
        "print(list[::-1])"
      ],
      "metadata": {
        "colab": {
          "base_uri": "https://localhost:8080/"
        },
        "id": "albJGBIqaVod",
        "outputId": "46598e9d-3637-4596-941c-166d1a65b8eb"
      },
      "execution_count": null,
      "outputs": [
        {
          "output_type": "stream",
          "name": "stdout",
          "text": [
            "[50, 40, 30, 20, 10]\n"
          ]
        }
      ]
    },
    {
      "cell_type": "code",
      "source": [
        "#11.  Write a code to create a tuple with the elements 100, 200, 300 and print it.\n",
        "tuple = (100,200,300)\n",
        "print(tuple)"
      ],
      "metadata": {
        "colab": {
          "base_uri": "https://localhost:8080/"
        },
        "id": "yOVSZKHja3i1",
        "outputId": "e3aad01e-6e77-4f51-b88a-396eca062481"
      },
      "execution_count": null,
      "outputs": [
        {
          "output_type": "stream",
          "name": "stdout",
          "text": [
            "(100, 200, 300)\n"
          ]
        }
      ]
    },
    {
      "cell_type": "code",
      "source": [
        "#12. Write a code to access the second-to-last element of the tuple ('red', 'green', 'blue', 'yellow').\n",
        "tuple = ('red','green','blue','yellow')\n",
        "print(tuple[-2])"
      ],
      "metadata": {
        "colab": {
          "base_uri": "https://localhost:8080/"
        },
        "id": "SqrQrm-QbC7c",
        "outputId": "79cf1f84-9d93-4567-be56-5f01c6f6d5dc"
      },
      "execution_count": null,
      "outputs": [
        {
          "output_type": "stream",
          "name": "stdout",
          "text": [
            "blue\n"
          ]
        }
      ]
    },
    {
      "cell_type": "code",
      "source": [
        "#13.Write a code to find the minimum number in the tuple (10, 20, 5, 15).\n",
        "tuple = (10,20,5,15)\n",
        "print(min(tuple))\n"
      ],
      "metadata": {
        "colab": {
          "base_uri": "https://localhost:8080/"
        },
        "id": "vFQQ31RTbJu0",
        "outputId": "ef6a6506-ba12-4087-d171-29468b321449"
      },
      "execution_count": null,
      "outputs": [
        {
          "output_type": "stream",
          "name": "stdout",
          "text": [
            "5\n"
          ]
        }
      ]
    },
    {
      "cell_type": "code",
      "source": [
        "#14.  Write a code to find the index of the element \"cat\" in the tuple ('dog', 'cat', 'rabbit').\n",
        "tuple = ('dog','cat','rabbit')\n",
        "print(tuple.index('cat'))\n"
      ],
      "metadata": {
        "colab": {
          "base_uri": "https://localhost:8080/"
        },
        "id": "PkkgmDd9bVLU",
        "outputId": "8458475c-bb8a-4b8c-9550-df7fe87f03b2"
      },
      "execution_count": null,
      "outputs": [
        {
          "output_type": "stream",
          "name": "stdout",
          "text": [
            "1\n"
          ]
        }
      ]
    },
    {
      "cell_type": "code",
      "source": [
        "#15.  Write a code to create a tuple containing three different fruits and check if \"kiwi\" is in it.\n",
        "tuple = ('apple','banana','kiwi')\n",
        "print('kiwi' in tuple)"
      ],
      "metadata": {
        "colab": {
          "base_uri": "https://localhost:8080/"
        },
        "id": "Oje4M7FtbhkU",
        "outputId": "c851df8b-169e-48d1-b181-ffb841a6d629"
      },
      "execution_count": null,
      "outputs": [
        {
          "output_type": "stream",
          "name": "stdout",
          "text": [
            "True\n"
          ]
        }
      ]
    },
    {
      "cell_type": "code",
      "source": [
        "#16.  Write a code to create a set with the elements 'a', 'b', 'c' and print it.\n",
        "my_set = {'a', 'b', 'c'}\n",
        "print(my_set)"
      ],
      "metadata": {
        "colab": {
          "base_uri": "https://localhost:8080/"
        },
        "id": "3-O_KDS2bqBE",
        "outputId": "dac870f8-30e4-49e9-af4d-d3381d6f1d62"
      },
      "execution_count": null,
      "outputs": [
        {
          "output_type": "stream",
          "name": "stdout",
          "text": [
            "{'b', 'a', 'c'}\n"
          ]
        }
      ]
    },
    {
      "cell_type": "code",
      "source": [
        "#17. Write a code to clear all elements from the set {1, 2, 3, 4, 5}.\n",
        "my_set = {1,2,3,4,5}\n",
        "my_set.clear()\n",
        "print(my_set)"
      ],
      "metadata": {
        "colab": {
          "base_uri": "https://localhost:8080/"
        },
        "id": "2GBLe9HMcOTa",
        "outputId": "56f148fc-81fd-4eeb-9ca2-66ba593ca77f"
      },
      "execution_count": null,
      "outputs": [
        {
          "output_type": "stream",
          "name": "stdout",
          "text": [
            "set()\n"
          ]
        }
      ]
    },
    {
      "cell_type": "code",
      "source": [
        "#18. Write a code to remove the element 4 from the set {1, 2, 3, 4}.\n",
        "my_set = {1,2,3,4}\n",
        "my_set.remove(4)\n",
        "print(my_set)"
      ],
      "metadata": {
        "colab": {
          "base_uri": "https://localhost:8080/"
        },
        "id": "WOVh2rp9co04",
        "outputId": "75a02889-a42c-4582-9e70-dfbea6e4ed8f"
      },
      "execution_count": null,
      "outputs": [
        {
          "output_type": "stream",
          "name": "stdout",
          "text": [
            "{1, 2, 3}\n"
          ]
        }
      ]
    },
    {
      "cell_type": "code",
      "source": [
        "#19. Write a code to find the union of two sets {1, 2, 3} and {3, 4, 5}.\n",
        "my_set1 = {1,2,3}\n",
        "my_set2 = {3,4,5}\n",
        "print(my_set1.union(my_set2))\n"
      ],
      "metadata": {
        "id": "q4Iecuigcy6h",
        "colab": {
          "base_uri": "https://localhost:8080/"
        },
        "outputId": "6ca24d53-0c71-4e65-8e94-68974fd3a553"
      },
      "execution_count": 1,
      "outputs": [
        {
          "output_type": "stream",
          "name": "stdout",
          "text": [
            "{1, 2, 3, 4, 5}\n"
          ]
        }
      ]
    },
    {
      "cell_type": "code",
      "source": [
        "#20. Write a code to find the intersection of two sets {1, 2, 3} and {2, 3, 4}.\n",
        "my_set1 = {1,2,3}\n",
        "my_set2 = {2,3,4}\n",
        "print(my_set1.intersection(my_set2))"
      ],
      "metadata": {
        "colab": {
          "base_uri": "https://localhost:8080/"
        },
        "id": "l-4MOLf8p2W6",
        "outputId": "e8c3b5e0-889e-407f-df6a-a251588256ce"
      },
      "execution_count": 2,
      "outputs": [
        {
          "output_type": "stream",
          "name": "stdout",
          "text": [
            "{2, 3}\n"
          ]
        }
      ]
    },
    {
      "cell_type": "code",
      "source": [
        "#21. Write a code to create a dictionary with the keys \"name\", \"age\", and \"city\", and print it.\n",
        "my_dict = {'name':'Arun','age':21,'city':'Bokaro steel city'}\n",
        "print(my_dict)\n"
      ],
      "metadata": {
        "colab": {
          "base_uri": "https://localhost:8080/"
        },
        "id": "-n7xKtjPqSWy",
        "outputId": "d9097948-dfea-43f1-caaa-6c5ca9dedc14"
      },
      "execution_count": 3,
      "outputs": [
        {
          "output_type": "stream",
          "name": "stdout",
          "text": [
            "{'name': 'Arun', 'age': 21, 'city': 'Bokaro steel city'}\n"
          ]
        }
      ]
    },
    {
      "cell_type": "code",
      "source": [
        "#22. Write a code to add a new key-value pair \"country\": \"USA\" to the dictionary {'name': 'John', 'age': 25}.\n",
        "my_dict = {'name':'John','age':25}\n",
        "my_dict['country'] = 'USA'\n",
        "print(my_dict)"
      ],
      "metadata": {
        "colab": {
          "base_uri": "https://localhost:8080/"
        },
        "id": "0HlcpTO9rQDq",
        "outputId": "9c9beef3-bd05-4de2-929c-ebecfe54a8c2"
      },
      "execution_count": 4,
      "outputs": [
        {
          "output_type": "stream",
          "name": "stdout",
          "text": [
            "{'name': 'John', 'age': 25, 'country': 'USA'}\n"
          ]
        }
      ]
    },
    {
      "cell_type": "code",
      "source": [
        "#23.  Write a code to access the value associated with the key \"name\" in the dictionary {'name': 'Alice', 'age': 30}.\n",
        "my_dict = {'name':'Alice','age':30}\n",
        "print(my_dict['name'])"
      ],
      "metadata": {
        "colab": {
          "base_uri": "https://localhost:8080/"
        },
        "id": "jX2ws1eBrbo-",
        "outputId": "a0756efa-ffba-4de2-a7bc-427dc6065af8"
      },
      "execution_count": 5,
      "outputs": [
        {
          "output_type": "stream",
          "name": "stdout",
          "text": [
            "Alice\n"
          ]
        }
      ]
    },
    {
      "cell_type": "code",
      "source": [
        "#24. Write a code to remove the key \"age\" from the dictionary {'name': 'Bob', 'age': 22, 'city': 'New York'}.\n",
        "my_dict = {'name':'Bob','age':22,'city':'New York'}\n",
        "my_dict.pop('age')\n",
        "print(my_dict)"
      ],
      "metadata": {
        "colab": {
          "base_uri": "https://localhost:8080/"
        },
        "id": "7OgjQ89Tridu",
        "outputId": "fa222747-cb87-4d8f-8b32-195963431d9b"
      },
      "execution_count": 6,
      "outputs": [
        {
          "output_type": "stream",
          "name": "stdout",
          "text": [
            "{'name': 'Bob', 'city': 'New York'}\n"
          ]
        }
      ]
    },
    {
      "cell_type": "code",
      "source": [
        "#25. Write a code to check if the key \"city\" exists in the dictionary {'name': 'Alice', 'city': 'Paris'}.\n",
        "my_dict = {'name':'Alice','city':'Paris'}\n",
        "print('city' in my_dict)\n"
      ],
      "metadata": {
        "colab": {
          "base_uri": "https://localhost:8080/"
        },
        "id": "OVLU2j14rpDu",
        "outputId": "b1da79b8-87f2-49d4-adfa-ff409b1ba12d"
      },
      "execution_count": 7,
      "outputs": [
        {
          "output_type": "stream",
          "name": "stdout",
          "text": [
            "True\n"
          ]
        }
      ]
    },
    {
      "cell_type": "code",
      "source": [
        "#26.  Write a code to create a list, a tuple, and a dictionary, and print them all.\n",
        "my_list = [1,2,3,4]\n",
        "my_tuple = (1,2,3,4)\n",
        "my_dict = {'name':'Arun','age':21}"
      ],
      "metadata": {
        "id": "spIhI7oGr2B-"
      },
      "execution_count": 8,
      "outputs": []
    },
    {
      "cell_type": "code",
      "source": [
        "#27.  Write a code to create a list of 5 random numbers between 1 and 100, sort it in ascending order, and print the\n",
        "# result.\n",
        "import random\n",
        "my_list = [random.randint(1,100) for _ in range(5)]\n",
        "my_list.sort()\n",
        "print(my_list)"
      ],
      "metadata": {
        "colab": {
          "base_uri": "https://localhost:8080/"
        },
        "id": "1lzfy6JJr9KN",
        "outputId": "addc2eb9-e94b-46dd-8e34-9c02009ce9b1"
      },
      "execution_count": 12,
      "outputs": [
        {
          "output_type": "stream",
          "name": "stdout",
          "text": [
            "[9, 16, 46, 49, 54]\n"
          ]
        }
      ]
    },
    {
      "cell_type": "code",
      "source": [
        "#28.  Write a code to create a list with strings and print the element at the third index.\n",
        "my_list = ['apple','banana','kiwi','orange']\n",
        "print(my_list[2])"
      ],
      "metadata": {
        "colab": {
          "base_uri": "https://localhost:8080/"
        },
        "id": "jarb6zlssaDl",
        "outputId": "85ef4828-dce9-4290-80cd-fed4ac97e014"
      },
      "execution_count": 9,
      "outputs": [
        {
          "output_type": "stream",
          "name": "stdout",
          "text": [
            "kiwi\n"
          ]
        }
      ]
    },
    {
      "cell_type": "code",
      "source": [
        "#29. Write a code to combine two dictionaries into one and print the result.\n",
        "my_dict1 = {'name':'Arun','age':21}\n",
        "my_dict2 = {'city':'Bokaro steel city','country':'India'}\n",
        "my_dict1.update(my_dict2)\n",
        "print(my_dict1)"
      ],
      "metadata": {
        "colab": {
          "base_uri": "https://localhost:8080/"
        },
        "id": "XNveAsGUshdX",
        "outputId": "2b6b9d60-4ce4-47f9-f4d3-da92d2f49681"
      },
      "execution_count": 13,
      "outputs": [
        {
          "output_type": "stream",
          "name": "stdout",
          "text": [
            "{'name': 'Arun', 'age': 21, 'city': 'Bokaro steel city', 'country': 'India'}\n"
          ]
        }
      ]
    },
    {
      "cell_type": "code",
      "source": [
        "#30.Write a code to convert a list of strings into a set.\n",
        "# Define a list of strings\n",
        "my_list_of_strings = [\"apple\", \"banana\", \"orange\", \"apple\", \"grape\", \"banana\"]\n",
        "\n",
        "# Convert the list of strings to a set\n",
        "my_set_of_strings = set(my_list_of_strings)\n",
        "\n",
        "# Print the original list and the resulting set\n",
        "print(f\"Original list: {my_list_of_strings}\")\n",
        "print(f\"Converted set: {my_set_of_strings}\")"
      ],
      "metadata": {
        "colab": {
          "base_uri": "https://localhost:8080/"
        },
        "id": "vhbsXkBLtCkF",
        "outputId": "01ae2194-f848-4d8a-8e93-eb78166b66b6"
      },
      "execution_count": 15,
      "outputs": [
        {
          "output_type": "stream",
          "name": "stdout",
          "text": [
            "Original list: ['apple', 'banana', 'orange', 'apple', 'grape', 'banana']\n",
            "Converted set: {'banana', 'orange', 'apple', 'grape'}\n"
          ]
        }
      ]
    },
    {
      "cell_type": "code",
      "source": [],
      "metadata": {
        "id": "JZE9Ac0ltLuz"
      },
      "execution_count": null,
      "outputs": []
    }
  ]
}